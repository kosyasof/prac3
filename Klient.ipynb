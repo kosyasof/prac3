{
 "cells": [
  {
   "cell_type": "code",
   "execution_count": null,
   "id": "a8e9fe50",
   "metadata": {},
   "outputs": [
    {
     "name": "stdout",
     "output_type": "stream",
     "text": [
      "Клиент подключен\n",
      "alina\n",
      "Данные полученные с сервера alina\n"
     ]
    }
   ],
   "source": [
    "import socket\n",
    "HOST = 'localhost'\n",
    "PORT = 8001\n",
    "s = socket.socket(socket.AF_INET, socket.SOCK_STREAM)\n",
    "s.connect((HOST, PORT))\n",
    "print('Клиент подключен')\n",
    "while True:\n",
    "    user_input = str(input()) \n",
    "    if not user_input:\n",
    "        break\n",
    "    s.sendall(user_input.encode())\n",
    "    data = s.recv(1024)\n",
    "    if not data:\n",
    "        break\n",
    "    print(\"Данные полученные с сервера\", data.decode('utf-8'))"
   ]
  },
  {
   "cell_type": "code",
   "execution_count": null,
   "id": "1ce400ee",
   "metadata": {},
   "outputs": [],
   "source": []
  }
 ],
 "metadata": {
  "kernelspec": {
   "display_name": "Python 3 (ipykernel)",
   "language": "python",
   "name": "python3"
  },
  "language_info": {
   "codemirror_mode": {
    "name": "ipython",
    "version": 3
   },
   "file_extension": ".py",
   "mimetype": "text/x-python",
   "name": "python",
   "nbconvert_exporter": "python",
   "pygments_lexer": "ipython3",
   "version": "3.9.7"
  }
 },
 "nbformat": 4,
 "nbformat_minor": 5
}
