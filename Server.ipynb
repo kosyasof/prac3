{
 "cells": [
  {
   "cell_type": "code",
   "execution_count": null,
   "id": "48c53f47",
   "metadata": {},
   "outputs": [
    {
     "name": "stdout",
     "output_type": "stream",
     "text": [
      "сервер привязан к 8001\n",
      "Начало прослушивания\n"
     ]
    }
   ],
   "source": [
    "import socket\n",
    "import time\n",
    "with socket.socket() as s:\n",
    "    host = 'localhost'\n",
    "    port = 8001\n",
    "    s.bind((host, port))\n",
    "    print(f'сервер привязан к {port}')\n",
    "    s.listen()\n",
    "    print('Начало прослушивания')\n",
    "    con, addr = s.accept()\n",
    "    with con:   \n",
    "        while True:\n",
    "            data = con.recv(1024)\n",
    "            if not data:\n",
    "                break\n",
    "            con.sendall(data)"
   ]
  },
  {
   "cell_type": "code",
   "execution_count": null,
   "id": "002db0a4",
   "metadata": {},
   "outputs": [],
   "source": []
  },
  {
   "cell_type": "code",
   "execution_count": null,
   "id": "b8a82f94",
   "metadata": {},
   "outputs": [],
   "source": []
  }
 ],
 "metadata": {
  "kernelspec": {
   "display_name": "Python 3 (ipykernel)",
   "language": "python",
   "name": "python3"
  },
  "language_info": {
   "codemirror_mode": {
    "name": "ipython",
    "version": 3
   },
   "file_extension": ".py",
   "mimetype": "text/x-python",
   "name": "python",
   "nbconvert_exporter": "python",
   "pygments_lexer": "ipython3",
   "version": "3.9.7"
  }
 },
 "nbformat": 4,
 "nbformat_minor": 5
}
